{
 "cells": [
  {
   "cell_type": "code",
   "execution_count": 1,
   "id": "7dcff25f",
   "metadata": {},
   "outputs": [],
   "source": [
    "import cv2 as cv\n",
    "import numpy as np"
   ]
  },
  {
   "cell_type": "code",
   "execution_count": null,
   "id": "f60bccfd",
   "metadata": {},
   "outputs": [],
   "source": [
    "pwd"
   ]
  },
  {
   "cell_type": "code",
   "execution_count": null,
   "id": "f6d27cd3",
   "metadata": {},
   "outputs": [],
   "source": [
    "img = cv.imread('image2.jpg', 1)\n",
    "img2 = cv.cvtColor(img, cv.COLOR_BGR2RGB)\n",
    "img3 = cv.cvtColor(img, cv.COLOR_BGR2HSV)\n",
    "\n",
    "\n",
    "\n",
    "#Filtro entre 2 rangos *ROJO*\n",
    "#ubb = (0, 60, 60)\n",
    "#uba = (15, 255, 255)\n",
    "\n",
    "#ubb2 = (170, 60, 60)\n",
    "#uba2 = (180, 255, 255)\n",
    "\n",
    "#mask1= cv.inRange(img3, ubb, uba)\n",
    "#mask2= cv.inRange(img3, ubb2, uba2)\n",
    "\n",
    "#mask= mask1 + mask2\n",
    "\n",
    "#Filtro *AMARILLO*\n",
    "ubb = (25, 60, 60)\n",
    "uba = (35, 255, 255)\n",
    "\n",
    "mask= cv.inRange(img3, ubb, uba)\n",
    "\n",
    "res= cv.bitwise_and(img, img, mask=mask)\n",
    "\n",
    "cv.imshow(\"img1\", img)\n",
    "#cv.imshow(\"img2\", img2)\n",
    "cv.imshow(\"img3\", img3)\n",
    "cv.imshow(\"res\", res)\n",
    "cv.waitKey(0)\n",
    "cv.destroyAllWindows()"
   ]
  },
  {
   "cell_type": "code",
   "execution_count": 2,
   "id": "dcd0ea3d",
   "metadata": {},
   "outputs": [],
   "source": [
    "cap = cv.VideoCapture(0)"
   ]
  },
  {
   "cell_type": "code",
   "execution_count": 3,
   "id": "812de88f",
   "metadata": {},
   "outputs": [],
   "source": [
    "#Filtro *AMARILLO*\n",
    "ubb = (25, 60, 60)\n",
    "uba = (35, 255, 255)\n",
    "\n",
    "while True:\n",
    "    ret, img = cap.read()\n",
    "    img2 = cv.cvtColor(img, cv.COLOR_BGR2HSV)\n",
    "    \n",
    "    mask = cv.inRange(img2, ubb, uba)\n",
    "    \n",
    "    img3 = cv.bitwise_and(img, img, mask=mask)\n",
    "    \n",
    "    cv.imshow('img3', img3)\n",
    "    cv.imshow('img2', img2)\n",
    "    cv.imshow('img', img)\n",
    "    \n",
    "    if cv.waitKey(1) == ord('q'):\n",
    "        break\n",
    "        \n",
    "cap.release()\n",
    "cv.destroyAllWindows()"
   ]
  },
  {
   "cell_type": "code",
   "execution_count": null,
   "id": "5722c8b8",
   "metadata": {},
   "outputs": [],
   "source": []
  }
 ],
 "metadata": {
  "kernelspec": {
   "display_name": "Python 3",
   "language": "python",
   "name": "python3"
  },
  "language_info": {
   "codemirror_mode": {
    "name": "ipython",
    "version": 3
   },
   "file_extension": ".py",
   "mimetype": "text/x-python",
   "name": "python",
   "nbconvert_exporter": "python",
   "pygments_lexer": "ipython3",
   "version": "3.8.8"
  }
 },
 "nbformat": 4,
 "nbformat_minor": 5
}
