{
 "cells": [
  {
   "cell_type": "code",
   "execution_count": 1,
   "id": "87d48f8a",
   "metadata": {},
   "outputs": [],
   "source": [
    "from sklearn.datasets import load_iris\n",
    "import pandas as pd\n",
    "from sklearn.model_selection import train_test_split as tts\n",
    "from sklearn.neural_network import MLPClassifier as MLP\n",
    "\n",
    "iris=load_iris()\n",
    "data = { 'ls':iris['data'][:,0],\n",
    "'as':iris['data'][:,1],\n",
    "'lp':iris['data'][:,2],\n",
    "'ap':iris['data'][:,3],\n",
    "'target':iris['target']\n",
    "}\n",
    "\n",
    "datap = pd.DataFrame(data)\n",
    "\n",
    "x_e, x_v, y_e, y_v = tts(iris['data'], iris['target'], random_state=1)\n",
    "\n",
    "datatrain = {'ls':x_e[:,0],\n",
    "'as':x_e[:,1],\n",
    "'lp':x_e[:,2],\n",
    "'ap':x_e[:,3],\n",
    "'target':y_e}\n",
    "\n",
    "datapt = pd.DataFrame(datatrain)"
   ]
  },
  {
   "cell_type": "markdown",
   "id": "cfd72706",
   "metadata": {},
   "source": [
    "## En el primer intento\n",
    "Se uso un solucionador por gradiente estocástico - \n",
    "Con tres capas con 8, 8 y 3 neuronas - \n",
    "Con una funcion de unidad lineal rectificada - \n",
    "Con 5 mil iteraciones\n",
    "La aproximacion o aprendizaje es malo con estos parametros "
   ]
  },
  {
   "cell_type": "code",
   "execution_count": 2,
   "id": "bddc1ea5",
   "metadata": {},
   "outputs": [
    {
     "name": "stdout",
     "output_type": "stream",
     "text": [
      "0.33035714285714285\n",
      "0.34210526315789475\n"
     ]
    }
   ],
   "source": [
    "mlp = MLP(solver='sgd', random_state=1, hidden_layer_sizes=[8,8,3],\n",
    "activation='relu', max_iter=5000)\n",
    "\n",
    "mlp.fit(x_e, y_e)\n",
    "print(mlp.score(x_e, y_e))\n",
    "print(mlp.score(x_v, y_v))"
   ]
  },
  {
   "cell_type": "markdown",
   "id": "b102eb30",
   "metadata": {},
   "source": [
    "## En el segundo intento\n",
    "Se uso optimizador de la familia de métodos cuasi-Newton - \n",
    "Con una capa con 5 neuronas - \n",
    "Con una funcion de unidad lineal rectificada - \n",
    "Con 5 mil iteraciones\n",
    "La aproximacion o aprendizaje es muy buena con estos parametros"
   ]
  },
  {
   "cell_type": "code",
   "execution_count": 3,
   "id": "7afd834d",
   "metadata": {},
   "outputs": [
    {
     "name": "stdout",
     "output_type": "stream",
     "text": [
      "0.9821428571428571\n",
      "1.0\n"
     ]
    }
   ],
   "source": [
    "mlp = MLP(solver='lbfgs', random_state=1, hidden_layer_sizes=[5],\n",
    "activation='relu', max_iter=5000)\n",
    "\n",
    "mlp.fit(x_e, y_e)\n",
    "print(mlp.score(x_e, y_e))\n",
    "print(mlp.score(x_v, y_v))"
   ]
  },
  {
   "cell_type": "markdown",
   "id": "755ac53f",
   "metadata": {},
   "source": [
    "## En el tercer intento\n",
    "Se uso optimizador estocástico basado en gradientes - \n",
    "Con dos capas de 5 y 7 neuronas - \n",
    "Con una funcion sigmoidea logística - \n",
    "Con 2000 iteraciones\n",
    "La aproximacion o aprendizaje es muy buena con estos parametros"
   ]
  },
  {
   "cell_type": "code",
   "execution_count": 6,
   "id": "21225ede",
   "metadata": {},
   "outputs": [
    {
     "name": "stdout",
     "output_type": "stream",
     "text": [
      "0.9732142857142857\n",
      "1.0\n"
     ]
    }
   ],
   "source": [
    "mlp = MLP(solver='adam', random_state=1, hidden_layer_sizes=[5, 7],\n",
    "activation='logistic', max_iter=2000)\n",
    "\n",
    "mlp.fit(x_e, y_e)\n",
    "print(mlp.score(x_e, y_e))\n",
    "print(mlp.score(x_v, y_v))"
   ]
  },
  {
   "cell_type": "markdown",
   "id": "3b0a61ed",
   "metadata": {},
   "source": [
    "## En el cuarto intento\n",
    "Se uso optimizador estocástico basado en gradientes - \n",
    "Con cinco capas de 3 neuronas cada una - \n",
    "Con una funcion hiperbólica tan h - \n",
    "Con 2000 iteraciones\n",
    "La aproximacion o aprendizaje es muy buena con estos parametros"
   ]
  },
  {
   "cell_type": "code",
   "execution_count": 9,
   "id": "630c1a48",
   "metadata": {},
   "outputs": [
    {
     "name": "stdout",
     "output_type": "stream",
     "text": [
      "0.9821428571428571\n",
      "1.0\n"
     ]
    }
   ],
   "source": [
    "mlp = MLP(solver='adam', random_state=1, hidden_layer_sizes=[3, 3, 3, 3, 3],\n",
    "activation='tanh', max_iter=2000)\n",
    "\n",
    "mlp.fit(x_e, y_e)\n",
    "print(mlp.score(x_e, y_e))\n",
    "print(mlp.score(x_v, y_v))"
   ]
  },
  {
   "cell_type": "markdown",
   "id": "aa70d22f",
   "metadata": {},
   "source": [
    "## En el quinto intento\n",
    "Se uso optimizador de la familia de métodos cuasi-Newton - \n",
    "Con 2 capas de 2 neuronas cada una - \n",
    "Con activación sin operación - \n",
    "Con 2000 iteraciones\n",
    "La aproximacion o aprendizaje es muy buena con estos parametros"
   ]
  },
  {
   "cell_type": "code",
   "execution_count": 10,
   "id": "da8e2f00",
   "metadata": {},
   "outputs": [
    {
     "name": "stdout",
     "output_type": "stream",
     "text": [
      "0.9821428571428571\n",
      "1.0\n"
     ]
    }
   ],
   "source": [
    "mlp = MLP(solver='lbfgs', random_state=1, hidden_layer_sizes=[2, 2],\n",
    "activation='identity', max_iter=2000)\n",
    "\n",
    "mlp.fit(x_e, y_e)\n",
    "print(mlp.score(x_e, y_e))\n",
    "print(mlp.score(x_v, y_v))"
   ]
  },
  {
   "cell_type": "markdown",
   "id": "a2f16ad1",
   "metadata": {},
   "source": [
    "## En el sexto intento\n",
    "Se uso descenso de gradiente estocástico - \n",
    "Con 3 capa de 9 neuronas - \n",
    "Con función sigmoidea logística - \n",
    "Con 9000 iteraciones\n",
    "La aproximacion o aprendizaje es muy mala con estos parametros"
   ]
  },
  {
   "cell_type": "code",
   "execution_count": 11,
   "id": "2801ca98",
   "metadata": {},
   "outputs": [
    {
     "name": "stdout",
     "output_type": "stream",
     "text": [
      "0.36607142857142855\n",
      "0.23684210526315788\n"
     ]
    }
   ],
   "source": [
    "mlp = MLP(solver='sgd', random_state=1, hidden_layer_sizes=[9, 9, 9],\n",
    "activation='logistic', max_iter=9000)\n",
    "\n",
    "mlp.fit(x_e, y_e)\n",
    "print(mlp.score(x_e, y_e))\n",
    "print(mlp.score(x_v, y_v))"
   ]
  },
  {
   "cell_type": "markdown",
   "id": "af69f7c7",
   "metadata": {},
   "source": [
    "## En el septimo intento\n",
    "Se uso descenso de gradiente estocástico - \n",
    "Con 8 capas de 1,2,3,4,5,6,7 neuronas - \n",
    "Con función de unidad lineal rectificada - \n",
    "Con 5000 iteraciones\n",
    "La aproximacion o aprendizaje es mala con estos parametros"
   ]
  },
  {
   "cell_type": "code",
   "execution_count": 12,
   "id": "2a49d843",
   "metadata": {},
   "outputs": [
    {
     "name": "stdout",
     "output_type": "stream",
     "text": [
      "0.33035714285714285\n",
      "0.34210526315789475\n"
     ]
    }
   ],
   "source": [
    "mlp = MLP(solver='sgd', random_state=1, hidden_layer_sizes=[1, 2, 3, 4, 5, 6, 7, 8, 9],\n",
    "activation='relu', max_iter=5000)\n",
    "\n",
    "mlp.fit(x_e, y_e)\n",
    "print(mlp.score(x_e, y_e))\n",
    "print(mlp.score(x_v, y_v))"
   ]
  },
  {
   "cell_type": "markdown",
   "id": "c2211bba",
   "metadata": {},
   "source": [
    "## En el octavo intento\n",
    "Se uso un optimizador de la familia de métodos cuasi-Newton - \n",
    "Con 1 capa de 25 neuronas - \n",
    "Con función sigmoidea logística - \n",
    "Con 4500 iteraciones\n",
    "La aproximacion o aprendizaje es muy buena con estos parametros"
   ]
  },
  {
   "cell_type": "code",
   "execution_count": 13,
   "id": "13f798ff",
   "metadata": {},
   "outputs": [
    {
     "name": "stdout",
     "output_type": "stream",
     "text": [
      "1.0\n",
      "1.0\n"
     ]
    }
   ],
   "source": [
    "mlp = MLP(solver='lbfgs', random_state=1, hidden_layer_sizes=[25],\n",
    "activation='logistic', max_iter=4500)\n",
    "\n",
    "mlp.fit(x_e, y_e)\n",
    "print(mlp.score(x_e, y_e))\n",
    "print(mlp.score(x_v, y_v))"
   ]
  },
  {
   "cell_type": "markdown",
   "id": "cfd0b65e",
   "metadata": {},
   "source": [
    "## En el noveno intento\n",
    "Se uso descenso de gradiente estocástico - \n",
    "Con 3 capas de 3,4,7 neuronas - \n",
    "Con función hiperbólica tan - \n",
    "Con 2500 iteraciones\n",
    "La aproximacion o aprendizaje es regular con estos parametros"
   ]
  },
  {
   "cell_type": "code",
   "execution_count": 14,
   "id": "35c358ca",
   "metadata": {},
   "outputs": [
    {
     "name": "stdout",
     "output_type": "stream",
     "text": [
      "0.6964285714285714\n",
      "0.5789473684210527\n"
     ]
    }
   ],
   "source": [
    "mlp = MLP(solver='sgd', random_state=1, hidden_layer_sizes=[3, 4, 7],\n",
    "activation='tanh', max_iter=2500)\n",
    "\n",
    "mlp.fit(x_e, y_e)\n",
    "print(mlp.score(x_e, y_e))\n",
    "print(mlp.score(x_v, y_v))"
   ]
  },
  {
   "cell_type": "markdown",
   "id": "66197aa8",
   "metadata": {},
   "source": [
    "## En el decimo intento\n",
    "Se uso un optimizador de la familia de métodos cuasi-Newton - \n",
    "Con 20 capas de 20 neuronas - \n",
    "Con función de unidad lineal rectificada - \n",
    "Con 8500 iteraciones\n",
    "La aproximacion o aprendizaje es muy buena con estos parametros"
   ]
  },
  {
   "cell_type": "code",
   "execution_count": 15,
   "id": "69a91ced",
   "metadata": {},
   "outputs": [
    {
     "name": "stdout",
     "output_type": "stream",
     "text": [
      "0.9821428571428571\n",
      "1.0\n"
     ]
    }
   ],
   "source": [
    "mlp = MLP(solver='lbfgs', random_state=1, hidden_layer_sizes=[20, 20, 20, 20],\n",
    "activation='relu', max_iter=8500)\n",
    "\n",
    "mlp.fit(x_e, y_e)\n",
    "print(mlp.score(x_e, y_e))\n",
    "print(mlp.score(x_v, y_v))"
   ]
  }
 ],
 "metadata": {
  "kernelspec": {
   "display_name": "Python 3",
   "language": "python",
   "name": "python3"
  },
  "language_info": {
   "codemirror_mode": {
    "name": "ipython",
    "version": 3
   },
   "file_extension": ".py",
   "mimetype": "text/x-python",
   "name": "python",
   "nbconvert_exporter": "python",
   "pygments_lexer": "ipython3",
   "version": "3.8.8"
  }
 },
 "nbformat": 4,
 "nbformat_minor": 5
}
