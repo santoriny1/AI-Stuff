{
 "cells": [
  {
   "cell_type": "code",
   "execution_count": 1,
   "id": "0dc68c83",
   "metadata": {},
   "outputs": [],
   "source": [
    "import cv2 as cv\n",
    "import numpy as np"
   ]
  },
  {
   "cell_type": "code",
   "execution_count": 2,
   "id": "963861ae",
   "metadata": {},
   "outputs": [],
   "source": [
    "cap = cv.VideoCapture(0)"
   ]
  },
  {
   "cell_type": "code",
   "execution_count": 3,
   "id": "9498b8e1",
   "metadata": {},
   "outputs": [],
   "source": [
    "cara = cv.CascadeClassifier('haarcascade_frontalface_alt.xml')"
   ]
  },
  {
   "cell_type": "code",
   "execution_count": null,
   "id": "573947f0",
   "metadata": {},
   "outputs": [],
   "source": [
    "x=0\n",
    "y=0\n",
    "xx=0\n",
    "yy=0\n",
    "i=0\n",
    "\n",
    "while True:\n",
    "    ret, img = cap.read()\n",
    "    gris = cv.cvtColor(img, cv.COLOR_BGR2GRAY)\n",
    "    caras = cara.detectMultiScale(gris,1.3,5)\n",
    "    \n",
    "    for(x,y,w,h) in caras:\n",
    "        x=x\n",
    "        y=y\n",
    "        xx=x+w\n",
    "        yy=y+h\n",
    "        img = cv.rectangle(img, (x,y), (x+w, y+h), (255, 0, 0), 2)\n",
    "        img = cv.rectangle(img, (x,y+int(h/2)), (x+w, y+h), (0,255,0), 5)\n",
    "    \n",
    "    if(x>0 and xx>0 and y>0 and yy>0):\n",
    "        img2 = img[y:yy, x:xx]\n",
    "        cv.imshow('img2', img2)\n",
    "  # Guardar data set de mi rostro\n",
    "        #cv.imwrite('cara'+str(i)+'.jpg', img2)\n",
    "    #i=i+1\n",
    "        \n",
    "    cv.imshow('gris', gris)\n",
    "    cv.imshow('img', img)\n",
    "    \n",
    "    if cv.waitKey(1) == ord('q'):\n",
    "        break\n",
    "        \n",
    "cap.release()\n",
    "cv.destroyAllWindows()"
   ]
  },
  {
   "cell_type": "code",
   "execution_count": 4,
   "id": "0897fbf5",
   "metadata": {},
   "outputs": [],
   "source": [
    "#Circulo en el ojo\n",
    "while True:\n",
    "    ret, img = cap.read()\n",
    "    gris = cv.cvtColor(img, cv.COLOR_BGR2GRAY)\n",
    "    caras = cara.detectMultiScale(gris,1.3,5)\n",
    "    \n",
    "    for(x,y,w,h) in caras:\n",
    "\n",
    "        #img = cv.rectangle(img, (x,y), (x+w, y+h), (255, 0, 0), 2)\n",
    "        #img = cv.rectangle(img, (x,y+int(h/2)), (x+w, y+h), (0,255,0), 5)\n",
    "        img = cv.circle(img, (x+int(w*0.3), y+int(h*0.4)), 20, (255,0,0), 2)\n",
    "        \n",
    "    cv.imshow('img', img)\n",
    "    \n",
    "    if cv.waitKey(1) == ord('q'):\n",
    "        break\n",
    "        \n",
    "cap.release()\n",
    "cv.destroyAllWindows()"
   ]
  },
  {
   "cell_type": "code",
   "execution_count": null,
   "id": "7ac026e1",
   "metadata": {},
   "outputs": [],
   "source": []
  }
 ],
 "metadata": {
  "kernelspec": {
   "display_name": "Python 3",
   "language": "python",
   "name": "python3"
  },
  "language_info": {
   "codemirror_mode": {
    "name": "ipython",
    "version": 3
   },
   "file_extension": ".py",
   "mimetype": "text/x-python",
   "name": "python",
   "nbconvert_exporter": "python",
   "pygments_lexer": "ipython3",
   "version": "3.8.8"
  }
 },
 "nbformat": 4,
 "nbformat_minor": 5
}
