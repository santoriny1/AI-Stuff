{
 "cells": [
  {
   "cell_type": "code",
   "execution_count": 58,
   "id": "f2d6ae28",
   "metadata": {},
   "outputs": [],
   "source": [
    "import cv2 as cv\n",
    "\n",
    "rostro = cv.CascadeClassifier('haarcascade_frontalface_alt.xml')\n",
    "cap = cv.VideoCapture(0)\n",
    "while True:\n",
    "    ret, img = cap.read()\n",
    "    gris = cv.cvtColor(img, cv.COLOR_BGR2GRAY)\n",
    "    rostros = rostro.detectMultiScale(gris, 1.3, 5)\n",
    "    for(x,y,w,h) in rostros:\n",
    "        #cara entera\n",
    "        img = cv.rectangle(img, (x,y), (x+w, y+h), (255,0,0), 3)\n",
    "        #ojos\n",
    "        img = cv.rectangle(img,(x+int(w/6),int(y+h/4)),(x+int(6*w/7),int (y+h/2)),(255,0,255),4)\n",
    "        #nariz\n",
    "        img = cv.rectangle(img, (x+int(w/3),y+int(3*h/7)), (x+int(2*w/3), y+int(5*h/7)), (40,75,120), 5)\n",
    "        #boca\n",
    "        img = cv.rectangle(img, (x+int(w/3),y+int(6*h/9)), (x+int(w*3/4), y+int(7*h/8)), (255,255,255), 4)\n",
    "    cv.imshow('img', img)\n",
    "    if cv.waitKey(1) == ord('q'):\n",
    "        break\n",
    "cap.release()\n",
    "cv.destroyAllWindows()"
   ]
  }
 ],
 "metadata": {
  "kernelspec": {
   "display_name": "Python 3",
   "language": "python",
   "name": "python3"
  },
  "language_info": {
   "codemirror_mode": {
    "name": "ipython",
    "version": 3
   },
   "file_extension": ".py",
   "mimetype": "text/x-python",
   "name": "python",
   "nbconvert_exporter": "python",
   "pygments_lexer": "ipython3",
   "version": "3.8.8"
  }
 },
 "nbformat": 4,
 "nbformat_minor": 5
}
